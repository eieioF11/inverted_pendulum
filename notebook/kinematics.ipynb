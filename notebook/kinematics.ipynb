{
 "cells": [
  {
   "cell_type": "code",
   "execution_count": 3,
   "metadata": {},
   "outputs": [],
   "source": [
    "import math\n",
    "import numpy as np\n",
    "import matplotlib.pyplot as plt\n",
    "from mpl_toolkits.mplot3d import Axes3D\n",
    "from sympy import *\n",
    "from sympy.abc import *\n",
    "init_printing(use_unicode=False, wrap_line=True)\n"
   ]
  },
  {
   "cell_type": "code",
   "execution_count": 40,
   "metadata": {},
   "outputs": [],
   "source": [
    "SI_MM = 10**(-3)\n",
    "# constants\n",
    "PI = 3.1415926535897932384626433832795\n",
    "TWO_PI = PI * 2.0\n",
    "HALF_PI = PI / 2.0\n",
    "QUARTER_PI = PI / 4.0\n",
    "EULER = 2.718281828459045235360287471352\n",
    "GRAVITY = 9.807\n",
    "DEG_TO_RAD = PI / 180.0 # degree -> radian\n",
    "RAD_TO_DEG = 180.0 / PI # radian -> degree\n",
    "\n",
    "def rotation(theta):\n",
    "  return np.matrix([[np.cos(theta), -np.sin(theta)], [np.sin(theta), np.cos(theta)]])\n",
    "# ベクトル描画関数\n",
    "def visual_vector(axes, loc, vector, color = \"red\"):\n",
    "    axes.quiver(loc[0], loc[1],\n",
    "              vector[0], vector[1], color = color,\n",
    "              angles = 'xy', scale_units = 'xy', scale = 1)\n"
   ]
  },
  {
   "cell_type": "code",
   "execution_count": 10,
   "metadata": {},
   "outputs": [
    {
     "name": "stdout",
     "output_type": "stream",
     "text": [
      "lbase =  0.064\n",
      "lu =  0.03\n",
      "ld =  0.07\n"
     ]
    }
   ],
   "source": [
    "lbase = 64.0 * SI_MM # [m]\n",
    "lu = 30.0 * SI_MM # [m]\n",
    "ld = 70.0 * SI_MM # [m]\n",
    "print(\"lbase = \", lbase)\n",
    "print(\"lu = \", lu)\n",
    "print(\"ld = \", ld)\n"
   ]
  },
  {
   "cell_type": "code",
   "execution_count": 79,
   "metadata": {},
   "outputs": [
    {
     "name": "stdout",
     "output_type": "stream",
     "text": [
      "pf0 =  [0.032 0.   ]\n",
      "pb0 =  [-0.032  0.   ]\n",
      "jpf =  [0.03 0.  ]\n",
      "jpb =  [-0.03  0.  ]\n",
      "jpc =  [ 0.   -0.07]\n"
     ]
    }
   ],
   "source": [
    "theta1, theta2 = symbols('theta1 theta2')\n",
    "l1, l2 ,l3, x, y = symbols('l1 l2 l3 x y')\n",
    "\n",
    "pf0 = np.array([lbase/2.0, 0.0])\n",
    "pb0 = np.array([-lbase/2.0, 0.0])\n",
    "jpf = np.array([lu, 0.0])\n",
    "jpb = np.array([-lu, 0.0])\n",
    "jpc = np.array([0.0, -ld])\n",
    "\n",
    "\n",
    "print(\"pf0 = \", pf0)\n",
    "print(\"pb0 = \", pb0)\n",
    "print(\"jpf = \", jpf)\n",
    "print(\"jpb = \", jpb)\n",
    "print(\"jpc = \", jpc)\n"
   ]
  },
  {
   "cell_type": "code",
   "execution_count": 78,
   "metadata": {},
   "outputs": [
    {
     "data": {
      "image/png": "[encoded data removed]",
      "text/plain": [
       "<Figure size 500x500 with 1 Axes>"
      ]
     },
     "metadata": {},
     "output_type": "display_data"
    }
   ],
   "source": [
    "fig = plt.figure(figsize=(5,5))\n",
    "ax = fig.add_subplot(1, 1, 1)\n",
    "ax.set_aspect('equal', adjustable='box')\n",
    "ax.grid()\n",
    "ax.set_xlim(-0.2, 0.2)\n",
    "ax.set_ylim(-0.2, 0.2)\n",
    "\n",
    "# 各linkを描画し、表示\n",
    "visual_vector(ax, pf0, jpf, \"tomato\")\n",
    "visual_vector(ax, pf0+jpf, jpc, \"lightgreen\")\n",
    "visual_vector(ax, pb0, jpb, \"tomato\")\n",
    "visual_vector(ax, pb0+jpb, jpc, \"lightgreen\")\n",
    "\n",
    "plt.show()"
   ]
  }
 ],
 "metadata": {
  "kernelspec": {
   "display_name": "Python 3",
   "language": "python",
   "name": "python3"
  },
  "language_info": {
   "codemirror_mode": {
    "name": "ipython",
    "version": 3
   },
   "file_extension": ".py",
   "mimetype": "text/x-python",
   "name": "python",
   "nbconvert_exporter": "python",
   "pygments_lexer": "ipython3",
   "version": "3.12.3"
  }
 },
 "nbformat": 4,
 "nbformat_minor": 2
}
